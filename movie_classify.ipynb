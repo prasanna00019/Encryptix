{
 "cells": [
  {
   "cell_type": "code",
   "execution_count": 3,
   "id": "3530748a-712e-4f7c-b64a-5814597ab69e",
   "metadata": {},
   "outputs": [],
   "source": [
    "import pandas as pd\n",
    "def load_and_preprocess(filepath, is_test=False):\n",
    "    data = pd.read_csv(filepath, delimiter=' ::: ', engine='python', header=None)\n",
    "    if is_test:\n",
    "        data.columns = ['ID', 'TITLE', 'DESCRIPTION']\n",
    "    else:\n",
    "        data.columns = ['ID', 'TITLE', 'GENRE', 'DESCRIPTION']\n",
    "    data['DESCRIPTION'] = data['DESCRIPTION'].str.lower().str.replace('[^\\w\\s]', '', regex=True)\n",
    "    return data\n"
   ]
  },
  {
   "cell_type": "code",
   "execution_count": 4,
   "id": "eeb557e7-a3f2-4a9f-bf8b-2db06a8b925a",
   "metadata": {},
   "outputs": [],
   "source": [
    "train_data = load_and_preprocess('train_data.txt')\n",
    "test_data = load_and_preprocess('test_data.txt', is_test=True)\n",
    "test_solution_data = load_and_preprocess('test_data_solution.txt')"
   ]
  },
  {
   "cell_type": "code",
   "execution_count": 10,
   "id": "b34ab4df-e3e7-460d-95e6-26781be684b2",
   "metadata": {},
   "outputs": [
    {
     "name": "stdout",
     "output_type": "stream",
     "text": [
      "(54200, 3)\n",
      "(54200, 4)\n"
     ]
    }
   ],
   "source": [
    "print(test_data.shape)\n",
    "print(test_solution_data.shape)"
   ]
  },
  {
   "cell_type": "code",
   "execution_count": 41,
   "id": "34485311-8994-4d9c-9732-12735ea98e24",
   "metadata": {},
   "outputs": [
    {
     "name": "stdout",
     "output_type": "stream",
     "text": [
      "Shape of test data: (54200,)\n",
      "Shape of predicted labels: (54200,)\n",
      "Accuracy: 0.5121217712177122\n",
      "Classification Report:\n",
      "               precision    recall  f1-score   support\n",
      "\n",
      "      action       0.59      0.06      0.11      1314\n",
      "       adult       0.45      0.03      0.06       590\n",
      "   adventure       0.72      0.04      0.08       775\n",
      "   animation       0.00      0.00      0.00       498\n",
      "   biography       0.00      0.00      0.00       264\n",
      "      comedy       0.52      0.39      0.45      7446\n",
      "       crime       0.00      0.00      0.00       505\n",
      " documentary       0.56      0.88      0.69     13096\n",
      "       drama       0.45      0.83      0.58     13612\n",
      "      family       1.00      0.00      0.00       783\n",
      "     fantasy       0.00      0.00      0.00       322\n",
      "   game-show       0.97      0.16      0.27       193\n",
      "     history       0.00      0.00      0.00       243\n",
      "      horror       0.73      0.27      0.40      2204\n",
      "       music       0.73      0.10      0.18       731\n",
      "     musical       0.00      0.00      0.00       276\n",
      "     mystery       0.00      0.00      0.00       318\n",
      "        news       0.00      0.00      0.00       181\n",
      "  reality-tv       0.60      0.01      0.03       883\n",
      "     romance       0.00      0.00      0.00       672\n",
      "      sci-fi       0.58      0.02      0.03       646\n",
      "       short       0.59      0.09      0.16      5072\n",
      "       sport       0.80      0.08      0.15       431\n",
      "   talk-show       0.00      0.00      0.00       391\n",
      "    thriller       0.41      0.01      0.02      1590\n",
      "         war       0.00      0.00      0.00       132\n",
      "     western       0.96      0.53      0.68      1032\n",
      "\n",
      "    accuracy                           0.51     54200\n",
      "   macro avg       0.39      0.13      0.14     54200\n",
      "weighted avg       0.51      0.51      0.43     54200\n",
      "\n"
     ]
    }
   ],
   "source": [
    "import pandas as pd\n",
    "import warnings \n",
    "warnings.filterwarnings('ignore')\n",
    "from sklearn.feature_extraction.text import TfidfVectorizer\n",
    "from sklearn.naive_bayes import MultinomialNB\n",
    "from sklearn.metrics import classification_report, accuracy_score\n",
    "tfidf_vectorizer = TfidfVectorizer(max_features=5000)\n",
    "X_train = tfidf_vectorizer.fit_transform(train_data['DESCRIPTION'])\n",
    "X_test = tfidf_vectorizer.transform(test_data['DESCRIPTION'])\n",
    "\n",
    "# Train the model using Multinomial Naive Bayes\n",
    "model = MultinomialNB()\n",
    "model.fit(X_train, train_data['GENRE'])\n",
    "\n",
    "# Predict the genres for the test set\n",
    "y_pred = model.predict(X_test)\n",
    "print(\"Shape of test data:\", y_test.shape)\n",
    "print(\"Shape of predicted labels:\", y_pred.shape)\n",
    "\n",
    "# Evaluate the model\n",
    "y_test = test_solution_data['GENRE']\n",
    "print(\"Accuracy:\", accuracy_score(y_test, y_pred))\n",
    "print(\"Classification Report:\\n\", classification_report(y_test, y_pred))\n"
   ]
  },
  {
   "cell_type": "code",
   "execution_count": 50,
   "id": "93eba56f-d162-488d-a3ae-3738896b9fc6",
   "metadata": {},
   "outputs": [
    {
     "name": "stdout",
     "output_type": "stream",
     "text": [
      "Accuracy: 0.5836715867158672\n",
      "Classification Report:\n",
      "               precision    recall  f1-score   support\n",
      "\n",
      "      action       0.47      0.28      0.35      1314\n",
      "       adult       0.59      0.23      0.33       590\n",
      "   adventure       0.57      0.16      0.25       775\n",
      "   animation       0.48      0.06      0.10       498\n",
      "   biography       0.00      0.00      0.00       264\n",
      "      comedy       0.53      0.59      0.55      7446\n",
      "       crime       0.33      0.03      0.06       505\n",
      " documentary       0.67      0.85      0.75     13096\n",
      "       drama       0.54      0.77      0.64     13612\n",
      "      family       0.49      0.08      0.14       783\n",
      "     fantasy       0.55      0.06      0.10       322\n",
      "   game-show       0.89      0.50      0.64       193\n",
      "     history       0.00      0.00      0.00       243\n",
      "      horror       0.64      0.57      0.60      2204\n",
      "       music       0.64      0.43      0.52       731\n",
      "     musical       0.25      0.02      0.03       276\n",
      "     mystery       0.33      0.01      0.02       318\n",
      "        news       0.64      0.05      0.09       181\n",
      "  reality-tv       0.51      0.19      0.28       883\n",
      "     romance       0.41      0.02      0.05       672\n",
      "      sci-fi       0.56      0.26      0.35       646\n",
      "       short       0.47      0.34      0.40      5072\n",
      "       sport       0.63      0.25      0.36       431\n",
      "   talk-show       0.61      0.18      0.27       391\n",
      "    thriller       0.38      0.13      0.20      1590\n",
      "         war       1.00      0.02      0.03       132\n",
      "     western       0.90      0.73      0.80      1032\n",
      "\n",
      "    accuracy                           0.58     54200\n",
      "   macro avg       0.52      0.25      0.29     54200\n",
      "weighted avg       0.56      0.58      0.54     54200\n",
      "\n"
     ]
    }
   ],
   "source": [
    "tfidf_vectorizer = TfidfVectorizer(max_features=5000)\n",
    "X_train = tfidf_vectorizer.fit_transform(train_data['DESCRIPTION'])\n",
    "X_test = tfidf_vectorizer.transform(test_data['DESCRIPTION'])\n",
    "\n",
    "# Train the model using Logistic Regression\n",
    "model = LogisticRegression(max_iter=200)\n",
    "model.fit(X_train, train_data['GENRE'])\n",
    "\n",
    "# Predict the genres for the test set\n",
    "y_pred = model.predict(X_test)\n",
    "\n",
    "# Evaluate the model\n",
    "y_test = test_solution_data['GENRE']\n",
    "print(\"Accuracy:\", accuracy_score(y_test, y_pred))\n",
    "print(\"Classification Report:\\n\", classification_report(y_test, y_pred))\n"
   ]
  }
 ],
 "metadata": {
  "kernelspec": {
   "display_name": "Python 3 (ipykernel)",
   "language": "python",
   "name": "python3"
  },
  "language_info": {
   "codemirror_mode": {
    "name": "ipython",
    "version": 3
   },
   "file_extension": ".py",
   "mimetype": "text/x-python",
   "name": "python",
   "nbconvert_exporter": "python",
   "pygments_lexer": "ipython3",
   "version": "3.11.4"
  }
 },
 "nbformat": 4,
 "nbformat_minor": 5
}
